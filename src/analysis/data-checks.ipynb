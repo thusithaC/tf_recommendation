{
 "cells": [
  {
   "cell_type": "code",
   "execution_count": 2,
   "metadata": {
    "pycharm": {
     "name": "#%%\n"
    }
   },
   "outputs": [],
   "source": [
    "import pandas as pd\n",
    "from plotnine import (\n",
    "    ggplot,\n",
    "    aes,\n",
    "    geom_line,\n",
    "    geom_histogram,\n",
    "    geom_bar\n",
    " )\n",
    "import numpy as np\n",
    "import random\n"
   ]
  },
  {
   "cell_type": "code",
   "execution_count": 1,
   "metadata": {
    "pycharm": {
     "name": "#%%\n"
    }
   },
   "outputs": [
    {
     "name": "stdout",
     "output_type": "stream",
     "text": [
      "total 529880\n",
      "-rw-rw-r-- 1 thusitha thusitha      7131 Oct 21  2019 'DS Question 3 - problem statement.docx'\n",
      "-rw-rw-r-- 1 thusitha thusitha      3722 Oct 23  2019  Explore.py\n",
      "-rw-r--r-- 1 thusitha thusitha   8472263 Aug  6  2019  item_metadata.csv\n",
      "-rw-r--r-- 1 thusitha thusitha 534104946 Aug  6  2019  user_behaviour_complete.csv\n"
     ]
    }
   ],
   "source": [
    "!ls -l /home/thusitha/work/bigdata/recomendation/data_recomndation/"
   ]
  },
  {
   "cell_type": "code",
   "execution_count": 3,
   "metadata": {
    "pycharm": {
     "name": "#%%\n"
    }
   },
   "outputs": [],
   "source": [
    "RAW_DATA_PATH = \"/home/thusitha/work/bigdata/recomendation/data_recomndation/user_behaviour_complete.csv\"\n",
    "META_DATA_PATH = \"/home/thusitha/work/bigdata/recomendation/data_recomndation/item_metadata.csv\"\n",
    "\n",
    "# behavior_type\t {‘click’, ‘add to wishlist’, ‘add to cart’, ‘pay’}"
   ]
  },
  {
   "cell_type": "code",
   "execution_count": 4,
   "metadata": {
    "pycharm": {
     "name": "#%%\n"
    }
   },
   "outputs": [],
   "source": [
    "user_behav_dt = pd.read_csv(RAW_DATA_PATH)\n",
    "#meta_dt = pd.read_csv(META_DATA_PATH)"
   ]
  },
  {
   "cell_type": "code",
   "execution_count": 5,
   "metadata": {
    "pycharm": {
     "name": "#%%\n"
    }
   },
   "outputs": [
    {
     "data": {
      "text/html": [
       "<div>\n",
       "<style scoped>\n",
       "    .dataframe tbody tr th:only-of-type {\n",
       "        vertical-align: middle;\n",
       "    }\n",
       "\n",
       "    .dataframe tbody tr th {\n",
       "        vertical-align: top;\n",
       "    }\n",
       "\n",
       "    .dataframe thead th {\n",
       "        text-align: right;\n",
       "    }\n",
       "</style>\n",
       "<table border=\"1\" class=\"dataframe\">\n",
       "  <thead>\n",
       "    <tr style=\"text-align: right;\">\n",
       "      <th></th>\n",
       "      <th>user_id</th>\n",
       "      <th>item_id</th>\n",
       "      <th>behavior_type</th>\n",
       "      <th>user_location_hash</th>\n",
       "      <th>item_category</th>\n",
       "      <th>time</th>\n",
       "    </tr>\n",
       "  </thead>\n",
       "  <tbody>\n",
       "    <tr>\n",
       "      <th>0</th>\n",
       "      <td>99512554</td>\n",
       "      <td>37320317</td>\n",
       "      <td>3</td>\n",
       "      <td>94gn6nd</td>\n",
       "      <td>9232</td>\n",
       "      <td>2014-11-26 20</td>\n",
       "    </tr>\n",
       "    <tr>\n",
       "      <th>1</th>\n",
       "      <td>9909811</td>\n",
       "      <td>266982489</td>\n",
       "      <td>1</td>\n",
       "      <td>NaN</td>\n",
       "      <td>3475</td>\n",
       "      <td>2014-12-02 23</td>\n",
       "    </tr>\n",
       "    <tr>\n",
       "      <th>2</th>\n",
       "      <td>98692568</td>\n",
       "      <td>27121464</td>\n",
       "      <td>1</td>\n",
       "      <td>94h63np</td>\n",
       "      <td>5201</td>\n",
       "      <td>2014-11-19 13</td>\n",
       "    </tr>\n",
       "    <tr>\n",
       "      <th>3</th>\n",
       "      <td>96089426</td>\n",
       "      <td>114407102</td>\n",
       "      <td>1</td>\n",
       "      <td>949g5i3</td>\n",
       "      <td>836</td>\n",
       "      <td>2014-11-26 07</td>\n",
       "    </tr>\n",
       "    <tr>\n",
       "      <th>4</th>\n",
       "      <td>90795949</td>\n",
       "      <td>402391768</td>\n",
       "      <td>1</td>\n",
       "      <td>94h6dlp</td>\n",
       "      <td>3046</td>\n",
       "      <td>2014-12-09 21</td>\n",
       "    </tr>\n",
       "  </tbody>\n",
       "</table>\n",
       "</div>"
      ],
      "text/plain": [
       "    user_id    item_id  behavior_type user_location_hash  item_category  \\\n",
       "0  99512554   37320317              3            94gn6nd           9232   \n",
       "1   9909811  266982489              1                NaN           3475   \n",
       "2  98692568   27121464              1            94h63np           5201   \n",
       "3  96089426  114407102              1            949g5i3            836   \n",
       "4  90795949  402391768              1            94h6dlp           3046   \n",
       "\n",
       "            time  \n",
       "0  2014-11-26 20  \n",
       "1  2014-12-02 23  \n",
       "2  2014-11-19 13  \n",
       "3  2014-11-26 07  \n",
       "4  2014-12-09 21  "
      ]
     },
     "execution_count": 5,
     "metadata": {},
     "output_type": "execute_result"
    }
   ],
   "source": [
    "user_behav_dt.head()"
   ]
  },
  {
   "cell_type": "code",
   "execution_count": 6,
   "metadata": {
    "pycharm": {
     "name": "#%%\n"
    }
   },
   "outputs": [
    {
     "name": "stdout",
     "output_type": "stream",
     "text": [
      "rows 12312542  users: 10000  items 2914411\n"
     ]
    }
   ],
   "source": [
    "print(\"rows\",  user_behav_dt.shape[0], \" users:\",  user_behav_dt[\"user_id\"].nunique(), \" items\", user_behav_dt[\"item_id\"].nunique())\n",
    "\n"
   ]
  },
  {
   "cell_type": "code",
   "execution_count": 7,
   "metadata": {
    "pycharm": {
     "name": "#%%\n"
    }
   },
   "outputs": [
    {
     "name": "stderr",
     "output_type": "stream",
     "text": [
      "/home/thusitha/work/virtual/seek-analysis/lib/python3.8/site-packages/plotnine/stats/stat_bin.py:95: PlotnineWarning: 'stat_bin()' using 'bins = 178'. Pick better value with 'binwidth'.\n"
     ]
    },
    {
     "data": {
      "image/png": "[encoded data removed]",
      "text/plain": [
       "<Figure size 640x480 with 1 Axes>"
      ]
     },
     "metadata": {},
     "output_type": "display_data"
    },
    {
     "data": {
      "text/plain": [
       "<ggplot: (8745497045233)>"
      ]
     },
     "execution_count": 7,
     "metadata": {},
     "output_type": "execute_result"
    }
   ],
   "source": [
    "user_interactions_cnt = user_behav_dt[[\"user_id\", \"item_id\"]].groupby(\"user_id\").count().reset_index().rename(columns = {\"item_id\": \"count\"}).sort_values(\"count\")\n",
    "\n",
    "( ggplot(user_interactions_cnt) +\n",
    "   aes(x = \"count\") +\n",
    "   geom_histogram()\n",
    ")"
   ]
  },
  {
   "cell_type": "code",
   "execution_count": 26,
   "metadata": {
    "pycharm": {
     "name": "#%%\n"
    }
   },
   "outputs": [
    {
     "data": {
      "image/png": "[encoded data removed]",
      "text/plain": [
       "<Figure size 640x480 with 1 Axes>"
      ]
     },
     "metadata": {},
     "output_type": "display_data"
    },
    {
     "data": {
      "text/plain": [
       "<ggplot: (8761906327721)>"
      ]
     },
     "execution_count": 26,
     "metadata": {},
     "output_type": "execute_result"
    }
   ],
   "source": [
    "( ggplot(user_behav_dt) +\n",
    "   aes(x = \"behavior_type\") +\n",
    "   geom_bar(stat = \"count\")\n",
    ")"
   ]
  },
  {
   "cell_type": "code",
   "execution_count": 43,
   "metadata": {
    "pycharm": {
     "name": "#%%\n"
    }
   },
   "outputs": [],
   "source": [
    "# get a sample of 1000 user for a test fit of a basic algo\n",
    "\n",
    "SAMPLE_PATH = \"/home/thusitha/work/projects/recommendation_take_home/data/sample_1k_users.csv\"\n",
    "users = user_behav_dt[[\"user_id\"]]\n",
    "\n",
    "random.seed(0)\n",
    "users_sample = users.sample(n=1000)\n",
    "\n",
    "user_behav_dt_sample = user_behav_dt.merge(users_sample, on = [\"user_id\"], how = \"inner\")\n",
    "user_behav_dt_sample.to_csv(SAMPLE_PATH, index=False)\n"
   ]
  }
 ],
 "metadata": {
  "interpreter": {
   "hash": "afa0836637ead3be21eb3bea5327d759b706375c4188b83f7d28112a3bd99171"
  },
  "kernelspec": {
   "display_name": "Python 3.8.10 64-bit ('seek-analysis': venv)",
   "language": "python",
   "name": "python3"
  },
  "language_info": {
   "codemirror_mode": {
    "name": "ipython",
    "version": 3
   },
   "file_extension": ".py",
   "mimetype": "text/x-python",
   "name": "python",
   "nbconvert_exporter": "python",
   "pygments_lexer": "ipython3",
   "version": "3.8.10"
  },
  "orig_nbformat": 4
 },
 "nbformat": 4,
 "nbformat_minor": 2
}